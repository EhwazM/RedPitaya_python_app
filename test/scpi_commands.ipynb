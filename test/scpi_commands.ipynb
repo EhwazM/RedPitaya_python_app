{
 "cells": [
  {
   "cell_type": "code",
   "execution_count": 1,
   "id": "b213ebd1",
   "metadata": {},
   "outputs": [],
   "source": [
    "import sys, os\n",
    "sys.path.insert(0, os.path.abspath('/home/ehwazm/Documents/Projects/RedPitaya_python_app/'))\n",
    "\n",
    "import numpy as np\n",
    "import pandas as pd\n",
    "import matplotlib.pyplot as plot\n",
    "import struct\n",
    "import time\n",
    "import app.redpitaya_scpi.redpitaya_scpi as scpi"
   ]
  },
  {
   "cell_type": "code",
   "execution_count": 27,
   "id": "8b3a4317",
   "metadata": {},
   "outputs": [
    {
     "name": "stdout",
     "output_type": "stream",
     "text": [
      "Conectado correctamente. Respuesta: REDPITAYA,INSTR2024,0,01-16\n"
     ]
    }
   ],
   "source": [
    "rp = scpi.scpi('rp-f0c5e4.local')\n",
    "try:\n",
    "    rp.tx_txt('*IDN?')\n",
    "    response = rp.rx_txt()\n",
    "    print(\"Conectado correctamente. Respuesta:\", response)\n",
    "except Exception as e:\n",
    "    print(\"No se pudo conectar a Red Pitaya:\", e)\n",
    "\n",
    "led1 = \"DIO1_P\"\n",
    "rp.tx_txt(f\"DIG:PIN:DIR OUT,{led1}\")\n",
    "\n",
    "for _ in range(10):\n",
    "    rp.tx_txt(f\"DIG:PIN {led1}, 1\")\n",
    "    time.sleep(0.1)\n",
    "    rp.tx_txt(f\"DIG:PIN {led1}, 0\")\n",
    "    time.sleep(0.1)\n",
    "\n",
    "rp.tx_txt(f\"DIG:RST\")"
   ]
  },
  {
   "cell_type": "code",
   "execution_count": 26,
   "id": "cba1af86",
   "metadata": {},
   "outputs": [
    {
     "name": "stdout",
     "output_type": "stream",
     "text": [
      "Conectado correctamente. Respuesta: REDPITAYA,INSTR2024,0,01-16\n",
      "Interrumpido por el usuario\n"
     ]
    }
   ],
   "source": [
    "rp = scpi.scpi('rp-f0c5e4.local')\n",
    "try:\n",
    "    rp.tx_txt('*IDN?')\n",
    "    response = rp.rx_txt()\n",
    "    print(\"Conectado correctamente. Respuesta:\", response)\n",
    "except Exception as e:\n",
    "    print(\"No se pudo conectar a Red Pitaya:\", e)\n",
    "\n",
    "for i in range(5):\n",
    "    rp.tx_txt(f\"DIG:PIN:DIR OUT,DIO{i}_P\")\n",
    "\n",
    "delay = 1\n",
    "\n",
    "try:\n",
    "    while True:\n",
    "        for i in range(5):\n",
    "            rp.tx_txt(f\"DIG:PIN DIO{i}_P, 1\")\n",
    "            time.sleep(delay)\n",
    "            rp.tx_txt(f\"DIG:PIN DIO{i}_P, 0\")\n",
    "            time.sleep(delay)\n",
    "            \n",
    "except KeyboardInterrupt:\n",
    "    print(\"Interrumpido por el usuario\")\n",
    "\n",
    "rp.tx_txt(f\"DIG:RST\")"
   ]
  },
  {
   "cell_type": "code",
   "execution_count": 25,
   "id": "38922c9a",
   "metadata": {},
   "outputs": [
    {
     "name": "stdout",
     "output_type": "stream",
     "text": [
      "Conectado correctamente. Respuesta: REDPITAYA,INSTR2024,0,01-16\n",
      "0.0 0.001\n",
      "Interrumpido por el usuario\n"
     ]
    }
   ],
   "source": [
    "rp = scpi.scpi('rp-f0c5e4.local')\n",
    "try:\n",
    "    rp.tx_txt('*IDN?')\n",
    "    response = rp.rx_txt()\n",
    "    print(\"Conectado correctamente. Respuesta:\", response)\n",
    "except Exception as e:\n",
    "    print(\"No se pudo conectar a Red Pitaya:\", e)\n",
    "\n",
    "for i in range(5):\n",
    "    rp.tx_txt(f\"DIG:PIN:DIR OUT,DIO{i}_P\")\n",
    "\n",
    "duty_cycle = 1  # Ciclo de trabajo del 0%\n",
    "period = 0.001   # Periodo total de 1 ms\n",
    "delay = period * duty_cycle  # Tiempo en alto\n",
    "\n",
    "print(period - delay, delay)\n",
    "\n",
    "try:\n",
    "    while True:\n",
    "        for i in range(5):\n",
    "            rp.tx_txt(f\"DIG:PIN DIO{i}_P, 1\")\n",
    "            time.sleep(delay)\n",
    "            rp.tx_txt(f\"DIG:PIN DIO{i}_P, 0\")\n",
    "            time.sleep(period - delay)\n",
    "\n",
    "except KeyboardInterrupt:\n",
    "    print(\"Interrumpido por el usuario\")\n",
    "\n",
    "rp.tx_txt(f\"DIG:RST\")\n"
   ]
  },
  {
   "cell_type": "markdown",
   "id": "f20be4e8",
   "metadata": {},
   "source": [
    "<img src=\"/home/ehwazm/Documents/Projects/RedPitaya_python_app/assets/Red_Pitaya_pinout.jpg\" alt=\"drawing\" width=\"1000\">"
   ]
  },
  {
   "cell_type": "code",
   "execution_count": null,
   "id": "6d3a725d",
   "metadata": {},
   "outputs": [
    {
     "name": "stdout",
     "output_type": "stream",
     "text": [
      "Check FPGA [OK].\n"
     ]
    },
    {
     "data": {
      "text/plain": [
       "0"
      ]
     },
     "execution_count": 6,
     "metadata": {},
     "output_type": "execute_result"
    }
   ],
   "source": [
    "from rp_overlay import overlay\n",
    "import rp\n",
    "\n",
    "fpga = overlay()\n",
    "rp.rp_Init()\n",
    "\n",
    "rp.rp_GenWaveform(rp.RP_CH_1 , rp.RP_WAVEFORM_SINE)\n",
    "rp.rp_GenFreqDirect(rp.RP_CH_1 , 1000)\n",
    "rp.rp_GenAmp(rp.RP_CH_1 , 0.7)\n",
    "\n",
    "rp.rp_GenOutEnable(rp.RP_CH_1)\n",
    "rp.rp_GenTriggerOnly(rp.RP_CH_1)"
   ]
  },
  {
   "cell_type": "code",
   "execution_count": 7,
   "id": "64f7e162",
   "metadata": {},
   "outputs": [],
   "source": [
    "import sys, os\n",
    "sys.path.insert(0, os.path.abspath('/home/ehwazm/Documents/Projects/RedPitaya_python_app/'))\n",
    "import app.redpitaya_scpi.redpitaya_scpi as scpi\n",
    "\n",
    "rp = scpi.scpi(\"rp-f0c5e4.local\", 5000)\n",
    "\n",
    "rp.tx_txt('SOUR1:FUNC:RESET')\n",
    "\n",
    "rp.tx_txt('SOUR1:FUNC SINE')\n",
    "rp.tx_txt('SOUR1:FREQ:FIX 1000')\n",
    "rp.tx_txt('SOUR1:VOLT 0.7')\n",
    "rp.tx_txt('SOUR1:VOLT:OFFS 0.0')\n",
    "\n",
    "rp.tx_txt('OUTPUT1:STATE ON')"
   ]
  }
 ],
 "metadata": {
  "kernelspec": {
   "display_name": ".venv",
   "language": "python",
   "name": "python3"
  },
  "language_info": {
   "codemirror_mode": {
    "name": "ipython",
    "version": 3
   },
   "file_extension": ".py",
   "mimetype": "text/x-python",
   "name": "python",
   "nbconvert_exporter": "python",
   "pygments_lexer": "ipython3",
   "version": "3.13.7"
  }
 },
 "nbformat": 4,
 "nbformat_minor": 5
}
